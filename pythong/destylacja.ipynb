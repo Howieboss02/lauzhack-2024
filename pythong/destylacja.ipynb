{
 "cells": [
  {
   "cell_type": "code",
   "id": "initial_id",
   "metadata": {
    "collapsed": true,
    "ExecuteTime": {
     "end_time": "2024-11-30T16:26:22.710616Z",
     "start_time": "2024-11-30T16:26:17.762453Z"
    }
   },
   "source": [
    "import pandas as pd\n",
    "from sklearn.model_selection import train_test_split\n",
    "from transformers import DistilBertTokenizer\n",
    "\n",
    "# Load Dataset\n",
    "def load_data():\n",
    "    dataset_path = r\"C:\\projects\\lauzhack-2024\\liar_dataset-master\\train.tsv\"\n",
    "    df = pd.read_csv(dataset_path, delimiter='\\t', header=None, names=['label', 'statement', 'subject', 'speaker', 'job', 'state', 'party', 'barely_true', 'false', 'half_true', 'mostly_true', 'pants_on_fire', 'context'])\n",
    "\n",
    "    # Map labels to integers\n",
    "    label_map = {\"true\": 0, \"false\": 1, \"barely-true\": 2, \"half-true\": 3, \"mostly-true\": 4, \"pants-fire\": 5}\n",
    "    df['label'] = df['label'].map(label_map)\n",
    "\n",
    "    return df['statement'].tolist(), df['label'].tolist()\n",
    "\n",
    "# Tokenize Inputs\n",
    "def tokenize_data(tokenizer, texts, labels, max_length=128):\n",
    "    tokenized = tokenizer(texts, padding=True, truncation=True, max_length=max_length, return_tensors='pt')\n",
    "    return tokenized['input_ids'], tokenized['attention_mask'], labels\n"
   ],
   "outputs": [],
   "execution_count": 1
  },
  {
   "metadata": {
    "ExecuteTime": {
     "end_time": "2024-11-30T16:28:03.090157Z",
     "start_time": "2024-11-30T16:28:03.059821Z"
    }
   },
   "cell_type": "code",
   "source": [
    "import torch\n",
    "from torch.utils.data import DataLoader, Dataset\n",
    "from transformers import DistilBertForSequenceClassification, AdamW\n",
    "\n",
    "# Create a PyTorch Dataset\n",
    "class LIARDataset(Dataset):\n",
    "    def __init__(self, input_ids, attention_masks, labels):\n",
    "        self.input_ids = input_ids\n",
    "        self.attention_masks = attention_masks\n",
    "        self.labels = labels\n",
    "\n",
    "    def __len__(self):\n",
    "        return len(self.labels)\n",
    "\n",
    "    def __getitem__(self, idx):\n",
    "        return {\n",
    "            'input_ids': self.input_ids[idx],\n",
    "            'attention_mask': self.attention_masks[idx],\n",
    "            'labels': torch.tensor(self.labels[idx], dtype=torch.long)\n",
    "        }\n",
    "\n",
    "# Fine-tune DistilBERT\n",
    "def train_distilbert_model(train_loader, val_loader, num_labels=6, epochs=3, lr=5e-5):\n",
    "    model = DistilBertForSequenceClassification.from_pretrained(\"distilbert-base-uncased\", num_labels=num_labels)\n",
    "    optimizer = AdamW(model.parameters(), lr=lr)\n",
    "    criterion = torch.nn.CrossEntropyLoss()\n",
    "\n",
    "    device = torch.device('cuda' if torch.cuda.is_available() else 'cpu')\n",
    "    model.to(device)\n",
    "\n",
    "    for epoch in range(epochs):\n",
    "        model.train()\n",
    "        total_loss = 0\n",
    "        for batch in train_loader:\n",
    "            optimizer.zero_grad()\n",
    "            input_ids = batch['input_ids'].to(device)\n",
    "            attention_mask = batch['attention_mask'].to(device)\n",
    "            labels = batch['labels'].to(device)\n",
    "\n",
    "            outputs = model(input_ids, attention_mask=attention_mask, labels=labels)\n",
    "            loss = outputs.loss\n",
    "            total_loss += loss.item()\n",
    "            loss.backward()\n",
    "            optimizer.step()\n",
    "\n",
    "        print(f\"Epoch {epoch + 1}/{epochs}, Loss: {total_loss / len(train_loader)}\")\n",
    "\n",
    "    return model\n"
   ],
   "id": "84735c430aac2cd6",
   "outputs": [],
   "execution_count": 3
  },
  {
   "metadata": {
    "jupyter": {
     "is_executing": true
    },
    "ExecuteTime": {
     "start_time": "2024-11-30T16:28:06.142504Z"
    }
   },
   "cell_type": "code",
   "source": [
    "def main():\n",
    "    # Load and preprocess data\n",
    "    texts, labels = load_data()\n",
    "    train_texts, val_texts, train_labels, val_labels = train_test_split(texts, labels, test_size=0.2, random_state=42)\n",
    "\n",
    "    tokenizer = DistilBertTokenizer.from_pretrained(\"distilbert-base-uncased\")\n",
    "    train_input_ids, train_attention_masks, train_labels = tokenize_data(tokenizer, train_texts, train_labels)\n",
    "    val_input_ids, val_attention_masks, val_labels = tokenize_data(tokenizer, val_texts, val_labels)\n",
    "\n",
    "    train_dataset = LIARDataset(train_input_ids, train_attention_masks, train_labels)\n",
    "    val_dataset = LIARDataset(val_input_ids, val_attention_masks, val_labels)\n",
    "\n",
    "    train_loader = DataLoader(train_dataset, batch_size=16, shuffle=True)\n",
    "    val_loader = DataLoader(val_dataset, batch_size=16)\n",
    "\n",
    "    # Train the model\n",
    "    model = train_distilbert_model(train_loader, val_loader)\n",
    "\n",
    "    # Save the model\n",
    "    model.save_pretrained(\"distilbert-fake-news\")\n",
    "    tokenizer.save_pretrained(\"distilbert-fake-news\")\n",
    "\n",
    "if __name__ == \"__main__\":\n",
    "    main()\n"
   ],
   "id": "d77e03bd47533918",
   "outputs": [
    {
     "name": "stderr",
     "output_type": "stream",
     "text": [
      "Some weights of DistilBertForSequenceClassification were not initialized from the model checkpoint at distilbert-base-uncased and are newly initialized: ['classifier.bias', 'classifier.weight', 'pre_classifier.bias', 'pre_classifier.weight']\n",
      "You should probably TRAIN this model on a down-stream task to be able to use it for predictions and inference.\n",
      "C:\\Users\\ziemm\\AppData\\Local\\Programs\\Python\\Python39\\lib\\site-packages\\transformers\\optimization.py:521: FutureWarning: This implementation of AdamW is deprecated and will be removed in a future version. Use the PyTorch implementation torch.optim.AdamW instead, or set `no_deprecation_warning=True` to disable this warning\n",
      "  warnings.warn(\n"
     ]
    }
   ],
   "execution_count": null
  },
  {
   "metadata": {},
   "cell_type": "code",
   "outputs": [],
   "execution_count": null,
   "source": "",
   "id": "12bc5b6bce13a81b"
  }
 ],
 "metadata": {
  "kernelspec": {
   "display_name": "Python 3",
   "language": "python",
   "name": "python3"
  },
  "language_info": {
   "codemirror_mode": {
    "name": "ipython",
    "version": 2
   },
   "file_extension": ".py",
   "mimetype": "text/x-python",
   "name": "python",
   "nbconvert_exporter": "python",
   "pygments_lexer": "ipython2",
   "version": "2.7.6"
  }
 },
 "nbformat": 4,
 "nbformat_minor": 5
}
