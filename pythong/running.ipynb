{
 "cells": [
  {
   "cell_type": "code",
   "execution_count": 2,
   "metadata": {},
   "outputs": [
    {
     "ename": "ModuleNotFoundError",
     "evalue": "No module named 'transformers'",
     "output_type": "error",
     "traceback": [
      "\u001b[0;31m---------------------------------------------------------------------------\u001b[0m",
      "\u001b[0;31mModuleNotFoundError\u001b[0m                       Traceback (most recent call last)",
      "Cell \u001b[0;32mIn[2], line 1\u001b[0m\n\u001b[0;32m----> 1\u001b[0m \u001b[38;5;28;01mfrom\u001b[39;00m \u001b[38;5;21;01mtransformers\u001b[39;00m \u001b[38;5;28;01mimport\u001b[39;00m AutoTokenizer, AutoModelForSequenceClassification\n\u001b[1;32m      2\u001b[0m \u001b[38;5;28;01mfrom\u001b[39;00m \u001b[38;5;21;01mdatasets\u001b[39;00m \u001b[38;5;28;01mimport\u001b[39;00m load_dataset\n\u001b[1;32m      3\u001b[0m \u001b[38;5;28;01mimport\u001b[39;00m \u001b[38;5;21;01mpandas\u001b[39;00m \u001b[38;5;28;01mas\u001b[39;00m \u001b[38;5;21;01mpd\u001b[39;00m\n",
      "\u001b[0;31mModuleNotFoundError\u001b[0m: No module named 'transformers'"
     ]
    }
   ],
   "source": [
    "from transformers import AutoTokenizer, AutoModelForSequenceClassification\n",
    "from datasets import load_dataset\n",
    "import pandas as pd\n",
    "import torch\n",
    "import tensorflow as tf\n",
    "from transformers import TFAutoModelForSequenceClassification\n",
    "\n",
    "# Load the tokenizer and model\n",
    "model_name = \"FriedGil/distillBERT-misinformation-classifier\"\n",
    "tokenizer = AutoTokenizer.from_pretrained(model_name)\n",
    "model = AutoModelForSequenceClassification.from_pretrained(model_name)\n",
    "\n",
    "# Load the LIAR dataset\n",
    "def load_liar_data(file_path):\n",
    "    columns = ['id', 'label', 'statement', 'subject', 'speaker', 'speaker_job_title',\n",
    "               'state_info', 'party_affiliation', 'barely_true_counts', 'false_counts',\n",
    "               'half_true_counts', 'mostly_true_counts', 'pants_on_fire_counts', 'context']\n",
    "    data = pd.read_csv(file_path, sep='\\t', header=None, names=columns)\n",
    "    return data\n",
    "\n",
    "liar_dataset_path = \"path_to_liar_dataset.tsv\"  # Replace with your dataset path\n",
    "liar_data = load_liar_data(liar_dataset_path)\n",
    "\n",
    "# Preprocess the dataset\n",
    "def preprocess_data(data, tokenizer, max_length=128):\n",
    "    statements = data['statement'].tolist()\n",
    "    encodings = tokenizer(statements, truncation=True, padding=True, max_length=max_length, return_tensors=\"pt\")\n",
    "    return encodings\n",
    "\n",
    "encodings = preprocess_data(liar_data, tokenizer)\n",
    "\n",
    "# Model inference\n",
    "def get_predictions(model, encodings):\n",
    "    with torch.no_grad():\n",
    "        outputs = model(**encodings)\n",
    "        predictions = torch.argmax(outputs.logits, dim=1)\n",
    "    return predictions\n",
    "\n",
    "predictions = get_predictions(model, encodings)\n",
    "\n",
    "# Convert the model to TensorFlow and export as .h5\n",
    "def convert_and_save_model(model_name, save_path):\n",
    "    tf_model = TFAutoModelForSequenceClassification.from_pretrained(model_name)\n",
    "    tf_model.save_pretrained(save_path)\n",
    "    print(f\"Model saved in {save_path}\")\n",
    "\n",
    "save_path = \"./misinformation_classifier\"\n",
    "convert_and_save_model(model_name, save_path)\n"
   ]
  },
  {
   "cell_type": "code",
   "execution_count": null,
   "metadata": {},
   "outputs": [],
   "source": []
  }
 ],
 "metadata": {
  "kernelspec": {
   "display_name": "Python 3",
   "language": "python",
   "name": "python3"
  },
  "language_info": {
   "codemirror_mode": {
    "name": "ipython",
    "version": 3
   },
   "file_extension": ".py",
   "mimetype": "text/x-python",
   "name": "python",
   "nbconvert_exporter": "python",
   "pygments_lexer": "ipython3",
   "version": "3.10.15"
  }
 },
 "nbformat": 4,
 "nbformat_minor": 2
}
