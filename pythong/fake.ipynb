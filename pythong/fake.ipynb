{
 "cells": [
  {
   "cell_type": "code",
   "metadata": {
    "ExecuteTime": {
     "end_time": "2024-11-30T16:12:07.821121Z",
     "start_time": "2024-11-30T16:12:06.663857Z"
    }
   },
   "source": [
    "import pandas as pd\n",
    "from sklearn.feature_extraction.text import TfidfVectorizer\n",
    "from sklearn.model_selection import train_test_split\n",
    "from sklearn.linear_model import LogisticRegression\n",
    "from sklearn.metrics import accuracy_score, classification_report\n",
    "\n",
    "# Load Dataset\n",
    "def load_data():\n",
    "    # Local dataset path\n",
    "    dataset_path = r\"C:\\projects\\lauzhack-2024\\liar_dataset-master\\train.tsv\"\n",
    "    # Load the dataset\n",
    "    df = pd.read_csv(dataset_path, delimiter='\\t', header=None, names=['label', 'statement', 'subject', 'speaker', 'job', 'state', 'party', 'barely_true', 'false', 'half_true', 'mostly_true', 'pants_on_fire', 'context'])\n",
    "    return df['statement'], df['label']\n",
    "\n",
    "# Preprocess and Split Data\n",
    "def preprocess_data(texts, labels):\n",
    "    vectorizer = TfidfVectorizer(stop_words='english', max_features=5000)\n",
    "    X = vectorizer.fit_transform(texts)\n",
    "    X_train, X_test, y_train, y_test = train_test_split(X, labels, test_size=0.2, random_state=42)\n",
    "    return X_train, X_test, y_train, y_test, vectorizer\n",
    "\n",
    "# Train Model\n",
    "def train_model(X_train, y_train):\n",
    "    model = LogisticRegression()\n",
    "    model.fit(X_train, y_train)\n",
    "    return model\n",
    "\n",
    "# Evaluate Model\n",
    "def evaluate_model(model, X_test, y_test):\n",
    "    predictions = model.predict(X_test)\n",
    "    print(\"Accuracy:\", accuracy_score(y_test, predictions))\n",
    "    print(classification_report(y_test, predictions))\n",
    "\n",
    "# Main Function\n",
    "def main():\n",
    "    texts, labels = load_data()\n",
    "    X_train, X_test, y_train, y_test, vectorizer = preprocess_data(texts, labels)\n",
    "    model = train_model(X_train, y_train)\n",
    "    evaluate_model(model, X_test, y_test)\n",
    "\n",
    "    # Save the model and vectorizer for later use\n",
    "    import joblib\n",
    "    joblib.dump(model, 'fake_news_model.pkl')\n",
    "    joblib.dump(vectorizer, 'vectorizer.pkl')\n",
    "\n",
    "if __name__ == \"__main__\":\n",
    "    main()\n"
   ],
   "outputs": [
    {
     "name": "stdout",
     "output_type": "stream",
     "text": [
      "Accuracy: 0.23095703125\n",
      "              precision    recall  f1-score   support\n",
      "\n",
      " barely-true       0.19      0.15      0.17       339\n",
      "       false       0.23      0.30      0.26       401\n",
      "   half-true       0.24      0.31      0.27       438\n",
      " mostly-true       0.23      0.26      0.24       382\n",
      "  pants-fire       0.46      0.07      0.13       148\n",
      "        true       0.24      0.17      0.20       340\n",
      "\n",
      "    accuracy                           0.23      2048\n",
      "   macro avg       0.26      0.21      0.21      2048\n",
      "weighted avg       0.24      0.23      0.22      2048\n",
      "\n"
     ]
    }
   ],
   "execution_count": 8
  },
  {
   "metadata": {},
   "cell_type": "code",
   "outputs": [],
   "execution_count": null,
   "source": ""
  }
 ],
 "metadata": {
  "kernelspec": {
   "display_name": "Python 3",
   "language": "python",
   "name": "python3"
  },
  "language_info": {
   "codemirror_mode": {
    "name": "ipython",
    "version": 3
   },
   "file_extension": ".py",
   "mimetype": "text/x-python",
   "name": "python",
   "nbconvert_exporter": "python",
   "pygments_lexer": "ipython3",
   "version": "3.13.0"
  }
 },
 "nbformat": 4,
 "nbformat_minor": 2
}
