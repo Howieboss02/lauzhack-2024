{
 "cells": [
  {
   "cell_type": "markdown",
   "metadata": {},
   "source": [
    "**Polarity Definition**: Polarity refers to the emotional tone of the text, determining how positive or negative it is.\n",
    "\n",
    "Range: The polarity value ranges from -1.0 to +1.0.\n",
    "\n",
    "-1.0: Extremely negative sentiment (e.g., \"I hate this. It’s terrible.\").\n",
    "0.0: Neutral sentiment (e.g., \"This is a book.\").\n",
    "+1.0: Extremely positive sentiment (e.g., \"I love this. It’s amazing.\").\n",
    "\n",
    "**Subjectivity Definition**: Subjectivity quantifies how much a piece of text is subjective (opinion-based) or objective (fact-based).\n",
    "\n",
    "Range: The subjectivity value ranges from 0.0 to 1.0.\n",
    "\n",
    "0.0: Completely objective (e.g., \"The sky is blue.\" – a fact).\n",
    "1.0: Completely subjective (e.g., \"I think this is the best day ever!\" – an opinion)."
   ]
  },
  {
   "cell_type": "code",
   "execution_count": null,
   "metadata": {},
   "outputs": [
    {
     "name": "stdout",
     "output_type": "stream",
     "text": [
      "Sentiment(polarity=0.20297619047619048, subjectivity=0.531547619047619)\n"
     ]
    }
   ],
   "source": [
    "#!pip3 install textblob\n",
    "from textblob import TextBlob\n",
    "\n",
    "article_text_trump = \"Happy Thanksgiving to all, including to the Radical Left Lunatics who have worked so hard to destroy our Country, but who have miserably failed, and will always fail, because their ideas and policies are so hopelessly bad that the great people of our Nation just gave a landslide victory to those who want to MAKE AMERICA GREAT AGAIN! Don’t worry, our Country will soon be respected, productive, fair, and strong, and you will be, more than ever before, proud to be an American!\"\n",
    "article_text = \"\"\n",
    "# Analyze sentiment\n",
    "sentiment = TextBlob(article_text).sentiment\n",
    "print(sentiment)"
   ]
  },
  {
   "cell_type": "markdown",
   "metadata": {},
   "source": [
    "## Political compass"
   ]
  },
  {
   "cell_type": "code",
   "execution_count": 8,
   "metadata": {},
   "outputs": [
    {
     "name": "stderr",
     "output_type": "stream",
     "text": [
      "[nltk_data] Downloading package stopwords to\n",
      "[nltk_data]     C:\\Users\\ewa.miazga\\AppData\\Roaming\\nltk_data...\n",
      "[nltk_data]   Package stopwords is already up-to-date!\n",
      "[nltk_data] Downloading package punkt to\n",
      "[nltk_data]     C:\\Users\\ewa.miazga\\AppData\\Roaming\\nltk_data...\n",
      "[nltk_data]   Package punkt is already up-to-date!\n",
      "[nltk_data] Downloading package punkt_tab to\n",
      "[nltk_data]     C:\\Users\\ewa.miazga\\AppData\\Roaming\\nltk_data...\n",
      "[nltk_data]   Unzipping tokenizers\\punkt_tab.zip.\n"
     ]
    }
   ],
   "source": [
    "import string\n",
    "import nltk\n",
    "from nltk.corpus import stopwords\n",
    "from nltk.tokenize import word_tokenize\n",
    "\n",
    "nltk.download('stopwords')\n",
    "nltk.download('punkt')\n",
    "nltk.download('punkt_tab')\n",
    "\n",
    "\n",
    "# Preprocess article text\n",
    "def preprocess_text(text):\n",
    "    # Lowercase the text\n",
    "    text = text.lower()\n",
    "    # Remove numbers\n",
    "    text = ''.join(word for word in text if not word.isdigit())\n",
    "    # Remove punctuation\n",
    "    text = ''.join(word for word in text if word not in string.punctuation)\n",
    "    # Remove stop words\n",
    "\n",
    "    stop_words = set(stopwords.words('english'))\n",
    "    word_tokens = word_tokenize(text)\n",
    "    text = ' '.join(word for word in word_tokens if word not in stop_words)\n",
    "    return text\n",
    "\n",
    "cleaned_text = preprocess_text(article_text)"
   ]
  },
  {
   "cell_type": "code",
   "execution_count": 9,
   "metadata": {},
   "outputs": [
    {
     "data": {
      "text/plain": [
       "'happy thanksgiving including radical left lunatics worked hard destroy country miserably failed always fail ideas policies hopelessly bad great people nation gave landslide victory want make america great ’ worry country soon respected productive fair strong ever proud american'"
      ]
     },
     "execution_count": 9,
     "metadata": {},
     "output_type": "execute_result"
    }
   ],
   "source": [
    "cleaned_text"
   ]
  },
  {
   "cell_type": "code",
   "execution_count": 15,
   "metadata": {},
   "outputs": [],
   "source": [
    "keyword_dict = {\n",
    "    # Economic Left Keywords (e.g., socialism, labor rights, progressive policies)\n",
    "    'economic_left': [\n",
    "        'redistribution', 'workers', 'labor rights', 'collective bargaining',\n",
    "        'unionize', 'public ownership', 'wealth tax', 'universal healthcare',\n",
    "        'free college', 'anti-corporate', 'eat the rich', 'living wage',\n",
    "        'minimum wage', 'climate justice', 'green new deal', 'tax the rich',\n",
    "        'capitalism is broken', 'medicare for all', 'socialism', '#fightfor15',\n",
    "        'anti-capitalist', 'progressive tax', 'public housing', 'income equality',\n",
    "        'abolish billionaires', 'corporate greed', '#NoMoreBillionaires',\n",
    "        'people over profits', 'end student debt', 'guaranteed income',\n",
    "        'fair trade', 'basic income', 'universal basic income', 'free healthcare',\n",
    "        '#wealthgap', '#livingwage', '#breakupbigtech'\n",
    "    ],\n",
    "\n",
    "    # Economic Right Keywords (e.g., capitalism, free market, deregulation)\n",
    "    'economic_right': [\n",
    "        'free market', 'capitalism', 'deregulation', 'tax cuts', 'limited government',\n",
    "        'individual responsibility', 'private property', 'private sector',\n",
    "        'corporate freedom', 'trickle-down economics', 'small business',\n",
    "        'economic freedom', 'entrepreneurship', 'job creators', '#freetrade',\n",
    "        'flat tax', 'privatization', 'self-reliance', 'personal responsibility',\n",
    "        '#defundwelfare', 'pro-business', 'free enterprise', '#cutregulations',\n",
    "        'business-friendly', 'pro-growth policies', 'small government',\n",
    "        'pro-capitalism', 'limited regulation', 'free trade agreements',\n",
    "        '#TaxCutsWork', 'less government', '#cuttaxes', '#lowtaxes', 'wealth creation'\n",
    "    ],\n",
    "\n",
    "    # Social Libertarian Keywords (e.g., individual freedoms, civil liberties)\n",
    "    'social_libertarian': [\n",
    "        'freedom of speech', 'civil liberties', 'privacy rights', 'personal freedom',\n",
    "        'human rights', 'net neutrality', 'anti-censorship', 'free expression',\n",
    "        'body autonomy', 'right to choose', 'equal rights', '#prochoice', \n",
    "        '#freedom', 'government overreach', 'marijuana legalization', \n",
    "        'LGBTQ+ rights', 'abolish ICE', 'police reform', 'criminal justice reform',\n",
    "        'prison reform', 'legalize weed', 'end mass surveillance', 'anti-patriot act',\n",
    "        'free press', 'free assembly', 'digital freedom', 'anti-police brutality',\n",
    "        '#NoToSurveillance', 'gender equality', 'racial equality',\n",
    "        'abolish the police', '#BlackLivesMatter', '#DefundThePolice', \n",
    "        'abolish prisons', 'trans rights', 'privacy protection',\n",
    "        'immigration rights', '#EqualityForAll', '#OpenBorders', \n",
    "        '#NoHumanIsIllegal', 'freedom to marry', 'equal pay'\n",
    "    ],\n",
    "\n",
    "    # Social Authoritarian Keywords (e.g., law and order, strong government control)\n",
    "    'social_authoritarian': [\n",
    "        'law and order', 'strong borders', 'border security', 'national sovereignty',\n",
    "        'patriotism', 'traditional values', 'family values', 'national security',\n",
    "        'pro-life', 'anti-abortion', '#BackTheBlue', '#BlueLivesMatter',\n",
    "        'strong leadership', 'military strength', 'death penalty', 'zero tolerance',\n",
    "        'cultural heritage', 'anti-LGBTQ+', 'drug prohibition', '#prolife',\n",
    "        'religious freedom', 'moral values', 'defend the constitution',\n",
    "        'patriotic education', 'censorship for safety', 'restore law and order',\n",
    "        'ban CRT', 'close the borders', 'secure the wall', 'immigration control',\n",
    "        '#DeportThemAll', '#BuildTheWall', 'traditional marriage',\n",
    "        'religious values', 'meritocracy', 'defense budget', \n",
    "        'defend Christianity', 'parental rights', 'patriotic values', \n",
    "        '#AmericanFirst', 'cultural preservation', 'anti-globalism'\n",
    "    ],\n",
    "\n",
    "    # Hashtags Related to Political Ideologies\n",
    "    'hashtags': {\n",
    "        'economic_left': [\n",
    "            '#Socialism', '#EatTheRich', '#TaxTheRich', '#Progressive',\n",
    "            '#MedicareForAll', '#UniversalHealthcare', '#GreenNewDeal',\n",
    "            '#CancelStudentDebt', '#AbolishBillionaires', '#EndCapitalism',\n",
    "            '#WorkersRights', '#UnionStrong', '#RaiseTheWage', '#PeopleOverProfit',\n",
    "            '#BreakUpBigTech', '#DemocraticSocialism'\n",
    "        ],\n",
    "        'economic_right': [\n",
    "            '#Capitalism', '#FreeMarket', '#TaxCuts', '#SmallGovernment',\n",
    "            '#ProBusiness', '#Entrepreneurship', '#EconomicFreedom',\n",
    "            '#SelfReliance', '#DefundWelfare', '#CutRegulations', '#JobCreators',\n",
    "            '#FlatTax', '#WealthCreation', '#ProGrowth', '#TrickleDown'\n",
    "        ],\n",
    "        'social_libertarian': [\n",
    "            '#ProChoice', '#Freedom', '#EqualityForAll', '#BlackLivesMatter',\n",
    "            '#DefundThePolice', '#EndMassSurveillance', '#LGBTQRights',\n",
    "            '#AbolishICE', '#PrisonReform', '#HumanRights', '#DigitalFreedom',\n",
    "            '#FreeSpeech', '#NoToCensorship', '#TransRightsAreHumanRights',\n",
    "            '#MarijuanaLegalization', '#NetNeutrality'\n",
    "        ],\n",
    "        'social_authoritarian': [\n",
    "            '#BackTheBlue', '#BlueLivesMatter', '#ProLife', '#BuildTheWall',\n",
    "            '#SecureTheBorder', '#LawAndOrder', '#TraditionalValues',\n",
    "            '#FamilyValues', '#ReligiousFreedom', '#Patriotism', '#BanCRT',\n",
    "            '#CloseTheBorders', '#DeportThemAll', '#Meritocracy', '#ChristianValues',\n",
    "            '#DefendTheConstitution', '#AmericaFirst', '#StrongBorders'\n",
    "        ]\n",
    "    }\n",
    "}\n"
   ]
  },
  {
   "cell_type": "code",
   "execution_count": 16,
   "metadata": {},
   "outputs": [
    {
     "name": "stdout",
     "output_type": "stream",
     "text": [
      "{'economic': 0, 'social': 0}\n"
     ]
    }
   ],
   "source": [
    "def calculate_political_scores(text_tokens, keyword_dict):\n",
    "    scores = {'economic': 0, 'social': 0}\n",
    "    \n",
    "    for token in text_tokens:\n",
    "        if token in keyword_dict['economic_left']:\n",
    "            scores['economic'] -= 1\n",
    "        elif token in keyword_dict['economic_right']:\n",
    "            scores['economic'] += 1\n",
    "        elif token in keyword_dict['social_libertarian']:\n",
    "            scores['social'] -= 1\n",
    "        elif token in keyword_dict['social_authoritarian']:\n",
    "            scores['social'] += 1\n",
    "    \n",
    "    return scores\n",
    "\\\n",
    "# Calculate scores\n",
    "scores = calculate_political_scores(cleaned_text, keyword_dict)\n",
    "print(scores)"
   ]
  },
  {
   "cell_type": "code",
   "execution_count": 14,
   "metadata": {},
   "outputs": [
    {
     "data": {
      "image/png": "[encoded data removed]",
      "text/plain": [
       "<Figure size 600x600 with 1 Axes>"
      ]
     },
     "metadata": {},
     "output_type": "display_data"
    }
   ],
   "source": [
    "import matplotlib.pyplot as plt\n",
    "\n",
    "# Plot political compass\n",
    "def plot_political_compass(economic, social):\n",
    "    plt.figure(figsize=(6, 6))\n",
    "    plt.axhline(0, color='black', linewidth=0.5)\n",
    "    plt.axvline(0, color='black', linewidth=0.5)\n",
    "    plt.scatter(economic, social, color='red')\n",
    "    plt.xlim(-10, 10)\n",
    "    plt.ylim(-10, 10)\n",
    "    plt.xlabel('Economic (Left <- -> Right)')\n",
    "    plt.ylabel('Social (Libertarian <- -> Authoritarian)')\n",
    "    plt.title('Political Compass Position')\n",
    "    plt.grid()\n",
    "    plt.show()\n",
    "\n",
    "plot_political_compass(scores['economic'], scores['social'])"
   ]
  },
  {
   "cell_type": "code",
   "execution_count": 19,
   "metadata": {},
   "outputs": [
    {
     "name": "stdout",
     "output_type": "stream",
     "text": [
      "[0.43567439913749695, 0.21199631690979004, 0.352329283952713]\n"
     ]
    }
   ],
   "source": [
    "from transformers import AutoTokenizer, AutoModelForSequenceClassification\n",
    "import torch\n",
    "\n",
    "text = cleaned_text\n",
    "\n",
    "tokenizer = AutoTokenizer.from_pretrained(\"bert-base-cased\")\n",
    "\n",
    "model = AutoModelForSequenceClassification.from_pretrained(\"bucketresearch/politicalBiasBERT\")\n",
    "\n",
    "\n",
    "inputs = tokenizer(text, return_tensors=\"pt\")\n",
    "labels = torch.tensor([0])\n",
    "outputs = model(**inputs, labels=labels)\n",
    "loss, logits = outputs[:2]\n",
    "\n",
    "# [0] -> left \n",
    "# [1] -> center\n",
    "# [2] -> right\n",
    "print(logits.softmax(dim=-1)[0].tolist()) "
   ]
  },
  {
   "cell_type": "markdown",
   "metadata": {},
   "source": [
    "# Sentiment analysis"
   ]
  },
  {
   "cell_type": "code",
   "execution_count": 27,
   "metadata": {},
   "outputs": [
    {
     "name": "stdout",
     "output_type": "stream",
     "text": [
      "Requirement already satisfied: pysentimiento in c:\\users\\ewa.miazga\\miniconda3\\envs\\mlbd\\lib\\site-packages (0.7.3)\n",
      "Requirement already satisfied: accelerate>=0.27.2 in c:\\users\\ewa.miazga\\miniconda3\\envs\\mlbd\\lib\\site-packages (from pysentimiento) (1.1.1)\n",
      "Requirement already satisfied: datasets>=2.10.1 in c:\\users\\ewa.miazga\\miniconda3\\envs\\mlbd\\lib\\site-packages (from pysentimiento) (3.1.0)\n",
      "Requirement already satisfied: emoji>=1.6.1 in c:\\users\\ewa.miazga\\miniconda3\\envs\\mlbd\\lib\\site-packages (from pysentimiento) (2.14.0)\n",
      "Requirement already satisfied: spacy>=3.5.0 in c:\\users\\ewa.miazga\\miniconda3\\envs\\mlbd\\lib\\site-packages (from pysentimiento) (3.8.2)\n",
      "Requirement already satisfied: torch!=2.0.1,>=2.0.0 in c:\\users\\ewa.miazga\\miniconda3\\envs\\mlbd\\lib\\site-packages (from pysentimiento) (2.2.2)\n",
      "Requirement already satisfied: transformers>=4.13.0 in c:\\users\\ewa.miazga\\miniconda3\\envs\\mlbd\\lib\\site-packages (from pysentimiento) (4.46.3)\n",
      "Requirement already satisfied: huggingface-hub>=0.21.0 in c:\\users\\ewa.miazga\\miniconda3\\envs\\mlbd\\lib\\site-packages (from accelerate>=0.27.2->pysentimiento) (0.26.3)\n",
      "Requirement already satisfied: numpy<3.0.0,>=1.17 in c:\\users\\ewa.miazga\\miniconda3\\envs\\mlbd\\lib\\site-packages (from accelerate>=0.27.2->pysentimiento) (2.0.2)\n",
      "Requirement already satisfied: packaging>=20.0 in c:\\users\\ewa.miazga\\appdata\\roaming\\python\\python310\\site-packages (from accelerate>=0.27.2->pysentimiento) (22.0)\n",
      "Requirement already satisfied: psutil in c:\\users\\ewa.miazga\\appdata\\roaming\\python\\python310\\site-packages (from accelerate>=0.27.2->pysentimiento) (5.9.4)\n",
      "Requirement already satisfied: pyyaml in c:\\users\\ewa.miazga\\miniconda3\\envs\\mlbd\\lib\\site-packages (from accelerate>=0.27.2->pysentimiento) (6.0.1)\n",
      "Requirement already satisfied: safetensors>=0.4.3 in c:\\users\\ewa.miazga\\miniconda3\\envs\\mlbd\\lib\\site-packages (from accelerate>=0.27.2->pysentimiento) (0.4.5)\n",
      "Requirement already satisfied: filelock in c:\\users\\ewa.miazga\\miniconda3\\envs\\mlbd\\lib\\site-packages (from datasets>=2.10.1->pysentimiento) (3.13.1)\n",
      "Requirement already satisfied: pyarrow>=15.0.0 in c:\\users\\ewa.miazga\\miniconda3\\envs\\mlbd\\lib\\site-packages (from datasets>=2.10.1->pysentimiento) (18.1.0)\n",
      "Requirement already satisfied: dill<0.3.9,>=0.3.0 in c:\\users\\ewa.miazga\\miniconda3\\envs\\mlbd\\lib\\site-packages (from datasets>=2.10.1->pysentimiento) (0.3.8)\n",
      "Requirement already satisfied: pandas in c:\\users\\ewa.miazga\\miniconda3\\envs\\mlbd\\lib\\site-packages (from datasets>=2.10.1->pysentimiento) (1.5.2)\n",
      "Requirement already satisfied: requests>=2.32.2 in c:\\users\\ewa.miazga\\miniconda3\\envs\\mlbd\\lib\\site-packages (from datasets>=2.10.1->pysentimiento) (2.32.3)\n",
      "Requirement already satisfied: tqdm>=4.66.3 in c:\\users\\ewa.miazga\\miniconda3\\envs\\mlbd\\lib\\site-packages (from datasets>=2.10.1->pysentimiento) (4.66.5)\n",
      "Requirement already satisfied: xxhash in c:\\users\\ewa.miazga\\miniconda3\\envs\\mlbd\\lib\\site-packages (from datasets>=2.10.1->pysentimiento) (3.5.0)\n",
      "Requirement already satisfied: multiprocess<0.70.17 in c:\\users\\ewa.miazga\\miniconda3\\envs\\mlbd\\lib\\site-packages (from datasets>=2.10.1->pysentimiento) (0.70.16)\n",
      "Requirement already satisfied: fsspec<=2024.9.0,>=2023.1.0 in c:\\users\\ewa.miazga\\miniconda3\\envs\\mlbd\\lib\\site-packages (from fsspec[http]<=2024.9.0,>=2023.1.0->datasets>=2.10.1->pysentimiento) (2024.3.1)\n",
      "Requirement already satisfied: aiohttp in c:\\users\\ewa.miazga\\miniconda3\\envs\\mlbd\\lib\\site-packages (from datasets>=2.10.1->pysentimiento) (3.10.5)\n",
      "Requirement already satisfied: spacy-legacy<3.1.0,>=3.0.11 in c:\\users\\ewa.miazga\\miniconda3\\envs\\mlbd\\lib\\site-packages (from spacy>=3.5.0->pysentimiento) (3.0.12)\n",
      "Requirement already satisfied: spacy-loggers<2.0.0,>=1.0.0 in c:\\users\\ewa.miazga\\miniconda3\\envs\\mlbd\\lib\\site-packages (from spacy>=3.5.0->pysentimiento) (1.0.5)\n",
      "Requirement already satisfied: murmurhash<1.1.0,>=0.28.0 in c:\\users\\ewa.miazga\\miniconda3\\envs\\mlbd\\lib\\site-packages (from spacy>=3.5.0->pysentimiento) (1.0.11)\n",
      "Requirement already satisfied: cymem<2.1.0,>=2.0.2 in c:\\users\\ewa.miazga\\miniconda3\\envs\\mlbd\\lib\\site-packages (from spacy>=3.5.0->pysentimiento) (2.0.10)\n",
      "Requirement already satisfied: preshed<3.1.0,>=3.0.2 in c:\\users\\ewa.miazga\\miniconda3\\envs\\mlbd\\lib\\site-packages (from spacy>=3.5.0->pysentimiento) (3.0.9)\n",
      "Requirement already satisfied: thinc<8.4.0,>=8.3.0 in c:\\users\\ewa.miazga\\miniconda3\\envs\\mlbd\\lib\\site-packages (from spacy>=3.5.0->pysentimiento) (8.3.2)\n",
      "Requirement already satisfied: wasabi<1.2.0,>=0.9.1 in c:\\users\\ewa.miazga\\miniconda3\\envs\\mlbd\\lib\\site-packages (from spacy>=3.5.0->pysentimiento) (1.1.3)\n",
      "Requirement already satisfied: srsly<3.0.0,>=2.4.3 in c:\\users\\ewa.miazga\\miniconda3\\envs\\mlbd\\lib\\site-packages (from spacy>=3.5.0->pysentimiento) (2.4.8)\n",
      "Requirement already satisfied: catalogue<2.1.0,>=2.0.6 in c:\\users\\ewa.miazga\\miniconda3\\envs\\mlbd\\lib\\site-packages (from spacy>=3.5.0->pysentimiento) (2.0.10)\n",
      "Requirement already satisfied: weasel<0.5.0,>=0.1.0 in c:\\users\\ewa.miazga\\miniconda3\\envs\\mlbd\\lib\\site-packages (from spacy>=3.5.0->pysentimiento) (0.4.1)\n",
      "Requirement already satisfied: typer<1.0.0,>=0.3.0 in c:\\users\\ewa.miazga\\miniconda3\\envs\\mlbd\\lib\\site-packages (from spacy>=3.5.0->pysentimiento) (0.14.0)\n",
      "Requirement already satisfied: pydantic!=1.8,!=1.8.1,<3.0.0,>=1.7.4 in c:\\users\\ewa.miazga\\miniconda3\\envs\\mlbd\\lib\\site-packages (from spacy>=3.5.0->pysentimiento) (2.10.2)\n",
      "Requirement already satisfied: jinja2 in c:\\users\\ewa.miazga\\miniconda3\\envs\\mlbd\\lib\\site-packages (from spacy>=3.5.0->pysentimiento) (3.1.3)\n",
      "Requirement already satisfied: setuptools in c:\\users\\ewa.miazga\\miniconda3\\envs\\mlbd\\lib\\site-packages (from spacy>=3.5.0->pysentimiento) (67.7.2)\n",
      "Requirement already satisfied: langcodes<4.0.0,>=3.2.0 in c:\\users\\ewa.miazga\\miniconda3\\envs\\mlbd\\lib\\site-packages (from spacy>=3.5.0->pysentimiento) (3.5.0)\n",
      "Requirement already satisfied: typing-extensions>=4.8.0 in c:\\users\\ewa.miazga\\miniconda3\\envs\\mlbd\\lib\\site-packages (from torch!=2.0.1,>=2.0.0->pysentimiento) (4.12.2)\n",
      "Requirement already satisfied: sympy in c:\\users\\ewa.miazga\\miniconda3\\envs\\mlbd\\lib\\site-packages (from torch!=2.0.1,>=2.0.0->pysentimiento) (1.12)\n",
      "Requirement already satisfied: networkx in c:\\users\\ewa.miazga\\miniconda3\\envs\\mlbd\\lib\\site-packages (from torch!=2.0.1,>=2.0.0->pysentimiento) (3.1)\n",
      "Requirement already satisfied: regex!=2019.12.17 in c:\\users\\ewa.miazga\\miniconda3\\envs\\mlbd\\lib\\site-packages (from transformers>=4.13.0->pysentimiento) (2024.11.6)\n",
      "Requirement already satisfied: tokenizers<0.21,>=0.20 in c:\\users\\ewa.miazga\\miniconda3\\envs\\mlbd\\lib\\site-packages (from transformers>=4.13.0->pysentimiento) (0.20.3)\n",
      "Requirement already satisfied: aiohappyeyeballs>=2.3.0 in c:\\users\\ewa.miazga\\miniconda3\\envs\\mlbd\\lib\\site-packages (from aiohttp->datasets>=2.10.1->pysentimiento) (2.4.0)\n",
      "Requirement already satisfied: aiosignal>=1.1.2 in c:\\users\\ewa.miazga\\miniconda3\\envs\\mlbd\\lib\\site-packages (from aiohttp->datasets>=2.10.1->pysentimiento) (1.2.0)\n",
      "Requirement already satisfied: attrs>=17.3.0 in c:\\users\\ewa.miazga\\miniconda3\\envs\\mlbd\\lib\\site-packages (from aiohttp->datasets>=2.10.1->pysentimiento) (24.2.0)\n",
      "Requirement already satisfied: frozenlist>=1.1.1 in c:\\users\\ewa.miazga\\miniconda3\\envs\\mlbd\\lib\\site-packages (from aiohttp->datasets>=2.10.1->pysentimiento) (1.5.0)\n",
      "Requirement already satisfied: multidict<7.0,>=4.5 in c:\\users\\ewa.miazga\\miniconda3\\envs\\mlbd\\lib\\site-packages (from aiohttp->datasets>=2.10.1->pysentimiento) (6.1.0)\n",
      "Requirement already satisfied: yarl<2.0,>=1.0 in c:\\users\\ewa.miazga\\miniconda3\\envs\\mlbd\\lib\\site-packages (from aiohttp->datasets>=2.10.1->pysentimiento) (1.11.0)\n",
      "Requirement already satisfied: async-timeout<5.0,>=4.0 in c:\\users\\ewa.miazga\\miniconda3\\envs\\mlbd\\lib\\site-packages (from aiohttp->datasets>=2.10.1->pysentimiento) (4.0.3)\n",
      "Requirement already satisfied: language-data>=1.2 in c:\\users\\ewa.miazga\\miniconda3\\envs\\mlbd\\lib\\site-packages (from langcodes<4.0.0,>=3.2.0->spacy>=3.5.0->pysentimiento) (1.3.0)\n",
      "Requirement already satisfied: annotated-types>=0.6.0 in c:\\users\\ewa.miazga\\miniconda3\\envs\\mlbd\\lib\\site-packages (from pydantic!=1.8,!=1.8.1,<3.0.0,>=1.7.4->spacy>=3.5.0->pysentimiento) (0.7.0)\n",
      "Requirement already satisfied: pydantic-core==2.27.1 in c:\\users\\ewa.miazga\\miniconda3\\envs\\mlbd\\lib\\site-packages (from pydantic!=1.8,!=1.8.1,<3.0.0,>=1.7.4->spacy>=3.5.0->pysentimiento) (2.27.1)\n",
      "Requirement already satisfied: charset-normalizer<4,>=2 in c:\\users\\ewa.miazga\\miniconda3\\envs\\mlbd\\lib\\site-packages (from requests>=2.32.2->datasets>=2.10.1->pysentimiento) (3.1.0)\n",
      "Requirement already satisfied: idna<4,>=2.5 in c:\\users\\ewa.miazga\\miniconda3\\envs\\mlbd\\lib\\site-packages (from requests>=2.32.2->datasets>=2.10.1->pysentimiento) (3.4)\n",
      "Requirement already satisfied: urllib3<3,>=1.21.1 in c:\\users\\ewa.miazga\\miniconda3\\envs\\mlbd\\lib\\site-packages (from requests>=2.32.2->datasets>=2.10.1->pysentimiento) (1.26.15)\n",
      "Requirement already satisfied: certifi>=2017.4.17 in c:\\users\\ewa.miazga\\miniconda3\\envs\\mlbd\\lib\\site-packages (from requests>=2.32.2->datasets>=2.10.1->pysentimiento) (2022.12.7)\n",
      "Requirement already satisfied: blis<1.1.0,>=1.0.0 in c:\\users\\ewa.miazga\\miniconda3\\envs\\mlbd\\lib\\site-packages (from thinc<8.4.0,>=8.3.0->spacy>=3.5.0->pysentimiento) (1.0.1)\n",
      "Requirement already satisfied: confection<1.0.0,>=0.0.1 in c:\\users\\ewa.miazga\\miniconda3\\envs\\mlbd\\lib\\site-packages (from thinc<8.4.0,>=8.3.0->spacy>=3.5.0->pysentimiento) (0.1.5)\n",
      "Requirement already satisfied: colorama in c:\\users\\ewa.miazga\\appdata\\roaming\\python\\python310\\site-packages (from tqdm>=4.66.3->datasets>=2.10.1->pysentimiento) (0.4.6)\n",
      "Requirement already satisfied: click>=8.0.0 in c:\\users\\ewa.miazga\\miniconda3\\envs\\mlbd\\lib\\site-packages (from typer<1.0.0,>=0.3.0->spacy>=3.5.0->pysentimiento) (8.1.3)\n",
      "Requirement already satisfied: shellingham>=1.3.0 in c:\\users\\ewa.miazga\\miniconda3\\envs\\mlbd\\lib\\site-packages (from typer<1.0.0,>=0.3.0->spacy>=3.5.0->pysentimiento) (1.5.4)\n",
      "Requirement already satisfied: rich>=10.11.0 in c:\\users\\ewa.miazga\\miniconda3\\envs\\mlbd\\lib\\site-packages (from typer<1.0.0,>=0.3.0->spacy>=3.5.0->pysentimiento) (13.7.1)\n",
      "Requirement already satisfied: cloudpathlib<1.0.0,>=0.7.0 in c:\\users\\ewa.miazga\\miniconda3\\envs\\mlbd\\lib\\site-packages (from weasel<0.5.0,>=0.1.0->spacy>=3.5.0->pysentimiento) (0.20.0)\n",
      "Requirement already satisfied: smart-open<8.0.0,>=5.2.1 in c:\\users\\ewa.miazga\\miniconda3\\envs\\mlbd\\lib\\site-packages (from weasel<0.5.0,>=0.1.0->spacy>=3.5.0->pysentimiento) (7.0.5)\n",
      "Requirement already satisfied: MarkupSafe>=2.0 in c:\\users\\ewa.miazga\\miniconda3\\envs\\mlbd\\lib\\site-packages (from jinja2->spacy>=3.5.0->pysentimiento) (2.1.2)\n",
      "Requirement already satisfied: python-dateutil>=2.8.1 in c:\\users\\ewa.miazga\\appdata\\roaming\\python\\python310\\site-packages (from pandas->datasets>=2.10.1->pysentimiento) (2.8.2)\n",
      "Requirement already satisfied: pytz>=2020.1 in c:\\users\\ewa.miazga\\miniconda3\\envs\\mlbd\\lib\\site-packages (from pandas->datasets>=2.10.1->pysentimiento) (2023.3)\n",
      "Requirement already satisfied: mpmath>=0.19 in c:\\users\\ewa.miazga\\miniconda3\\envs\\mlbd\\lib\\site-packages (from sympy->torch!=2.0.1,>=2.0.0->pysentimiento) (1.3.0)\n",
      "Requirement already satisfied: marisa-trie>=1.1.0 in c:\\users\\ewa.miazga\\miniconda3\\envs\\mlbd\\lib\\site-packages (from language-data>=1.2->langcodes<4.0.0,>=3.2.0->spacy>=3.5.0->pysentimiento) (1.2.1)\n",
      "Requirement already satisfied: six>=1.5 in c:\\users\\ewa.miazga\\appdata\\roaming\\python\\python310\\site-packages (from python-dateutil>=2.8.1->pandas->datasets>=2.10.1->pysentimiento) (1.16.0)\n",
      "Requirement already satisfied: markdown-it-py>=2.2.0 in c:\\users\\ewa.miazga\\miniconda3\\envs\\mlbd\\lib\\site-packages (from rich>=10.11.0->typer<1.0.0,>=0.3.0->spacy>=3.5.0->pysentimiento) (2.2.0)\n",
      "Requirement already satisfied: pygments<3.0.0,>=2.13.0 in c:\\users\\ewa.miazga\\appdata\\roaming\\python\\python310\\site-packages (from rich>=10.11.0->typer<1.0.0,>=0.3.0->spacy>=3.5.0->pysentimiento) (2.13.0)\n",
      "Requirement already satisfied: wrapt in c:\\users\\ewa.miazga\\miniconda3\\envs\\mlbd\\lib\\site-packages (from smart-open<8.0.0,>=5.2.1->weasel<0.5.0,>=0.1.0->spacy>=3.5.0->pysentimiento) (1.14.1)\n",
      "Requirement already satisfied: mdurl~=0.1 in c:\\users\\ewa.miazga\\miniconda3\\envs\\mlbd\\lib\\site-packages (from markdown-it-py>=2.2.0->rich>=10.11.0->typer<1.0.0,>=0.3.0->spacy>=3.5.0->pysentimiento) (0.1.0)\n"
     ]
    }
   ],
   "source": [
    "!pip3 install pysentimiento\n",
    "#emotion_analyzer = create_analyzer(task=\"emotion\", lang=\"en\")"
   ]
  },
  {
   "cell_type": "code",
   "execution_count": 32,
   "metadata": {},
   "outputs": [
    {
     "ename": "RuntimeError",
     "evalue": "Failed to import transformers.pipelines because of the following error (look up to see its traceback):\n'skip_parameter_validation'",
     "output_type": "error",
     "traceback": [
      "\u001b[1;31m---------------------------------------------------------------------------\u001b[0m",
      "\u001b[1;31mKeyError\u001b[0m                                  Traceback (most recent call last)",
      "File \u001b[1;32mc:\\Users\\ewa.miazga\\miniconda3\\envs\\mlbd\\lib\\site-packages\\transformers\\utils\\import_utils.py:1778\u001b[0m, in \u001b[0;36m_LazyModule._get_module\u001b[1;34m(self, module_name)\u001b[0m\n\u001b[0;32m   1777\u001b[0m \u001b[38;5;28;01mtry\u001b[39;00m:\n\u001b[1;32m-> 1778\u001b[0m     \u001b[38;5;28;01mreturn\u001b[39;00m \u001b[43mimportlib\u001b[49m\u001b[38;5;241;43m.\u001b[39;49m\u001b[43mimport_module\u001b[49m\u001b[43m(\u001b[49m\u001b[38;5;124;43m\"\u001b[39;49m\u001b[38;5;124;43m.\u001b[39;49m\u001b[38;5;124;43m\"\u001b[39;49m\u001b[43m \u001b[49m\u001b[38;5;241;43m+\u001b[39;49m\u001b[43m \u001b[49m\u001b[43mmodule_name\u001b[49m\u001b[43m,\u001b[49m\u001b[43m \u001b[49m\u001b[38;5;28;43mself\u001b[39;49m\u001b[38;5;241;43m.\u001b[39;49m\u001b[38;5;18;43m__name__\u001b[39;49m\u001b[43m)\u001b[49m\n\u001b[0;32m   1779\u001b[0m \u001b[38;5;28;01mexcept\u001b[39;00m \u001b[38;5;167;01mException\u001b[39;00m \u001b[38;5;28;01mas\u001b[39;00m e:\n",
      "File \u001b[1;32mc:\\Users\\ewa.miazga\\miniconda3\\envs\\mlbd\\lib\\importlib\\__init__.py:126\u001b[0m, in \u001b[0;36mimport_module\u001b[1;34m(name, package)\u001b[0m\n\u001b[0;32m    125\u001b[0m         level \u001b[38;5;241m+\u001b[39m\u001b[38;5;241m=\u001b[39m \u001b[38;5;241m1\u001b[39m\n\u001b[1;32m--> 126\u001b[0m \u001b[38;5;28;01mreturn\u001b[39;00m \u001b[43m_bootstrap\u001b[49m\u001b[38;5;241;43m.\u001b[39;49m\u001b[43m_gcd_import\u001b[49m\u001b[43m(\u001b[49m\u001b[43mname\u001b[49m\u001b[43m[\u001b[49m\u001b[43mlevel\u001b[49m\u001b[43m:\u001b[49m\u001b[43m]\u001b[49m\u001b[43m,\u001b[49m\u001b[43m \u001b[49m\u001b[43mpackage\u001b[49m\u001b[43m,\u001b[49m\u001b[43m \u001b[49m\u001b[43mlevel\u001b[49m\u001b[43m)\u001b[49m\n",
      "File \u001b[1;32m<frozen importlib._bootstrap>:1050\u001b[0m, in \u001b[0;36m_gcd_import\u001b[1;34m(name, package, level)\u001b[0m\n",
      "File \u001b[1;32m<frozen importlib._bootstrap>:1027\u001b[0m, in \u001b[0;36m_find_and_load\u001b[1;34m(name, import_)\u001b[0m\n",
      "File \u001b[1;32m<frozen importlib._bootstrap>:1006\u001b[0m, in \u001b[0;36m_find_and_load_unlocked\u001b[1;34m(name, import_)\u001b[0m\n",
      "File \u001b[1;32m<frozen importlib._bootstrap>:688\u001b[0m, in \u001b[0;36m_load_unlocked\u001b[1;34m(spec)\u001b[0m\n",
      "File \u001b[1;32m<frozen importlib._bootstrap_external>:883\u001b[0m, in \u001b[0;36mexec_module\u001b[1;34m(self, module)\u001b[0m\n",
      "File \u001b[1;32m<frozen importlib._bootstrap>:241\u001b[0m, in \u001b[0;36m_call_with_frames_removed\u001b[1;34m(f, *args, **kwds)\u001b[0m\n",
      "File \u001b[1;32mc:\\Users\\ewa.miazga\\miniconda3\\envs\\mlbd\\lib\\site-packages\\transformers\\pipelines\\__init__.py:63\u001b[0m\n\u001b[0;32m     62\u001b[0m \u001b[38;5;28;01mfrom\u001b[39;00m \u001b[38;5;21;01m.\u001b[39;00m\u001b[38;5;21;01mdepth_estimation\u001b[39;00m \u001b[38;5;28;01mimport\u001b[39;00m DepthEstimationPipeline\n\u001b[1;32m---> 63\u001b[0m \u001b[38;5;28;01mfrom\u001b[39;00m \u001b[38;5;21;01m.\u001b[39;00m\u001b[38;5;21;01mdocument_question_answering\u001b[39;00m \u001b[38;5;28;01mimport\u001b[39;00m DocumentQuestionAnsweringPipeline\n\u001b[0;32m     64\u001b[0m \u001b[38;5;28;01mfrom\u001b[39;00m \u001b[38;5;21;01m.\u001b[39;00m\u001b[38;5;21;01mfeature_extraction\u001b[39;00m \u001b[38;5;28;01mimport\u001b[39;00m FeatureExtractionPipeline\n",
      "File \u001b[1;32mc:\\Users\\ewa.miazga\\miniconda3\\envs\\mlbd\\lib\\site-packages\\transformers\\pipelines\\document_question_answering.py:29\u001b[0m\n\u001b[0;32m     28\u001b[0m \u001b[38;5;28;01mfrom\u001b[39;00m \u001b[38;5;21;01m.\u001b[39;00m\u001b[38;5;21;01mbase\u001b[39;00m \u001b[38;5;28;01mimport\u001b[39;00m PIPELINE_INIT_ARGS, ChunkPipeline\n\u001b[1;32m---> 29\u001b[0m \u001b[38;5;28;01mfrom\u001b[39;00m \u001b[38;5;21;01m.\u001b[39;00m\u001b[38;5;21;01mquestion_answering\u001b[39;00m \u001b[38;5;28;01mimport\u001b[39;00m select_starts_ends\n\u001b[0;32m     32\u001b[0m \u001b[38;5;28;01mif\u001b[39;00m is_vision_available():\n",
      "File \u001b[1;32mc:\\Users\\ewa.miazga\\miniconda3\\envs\\mlbd\\lib\\site-packages\\transformers\\pipelines\\question_answering.py:8\u001b[0m\n\u001b[0;32m      6\u001b[0m \u001b[38;5;28;01mimport\u001b[39;00m \u001b[38;5;21;01mnumpy\u001b[39;00m \u001b[38;5;28;01mas\u001b[39;00m \u001b[38;5;21;01mnp\u001b[39;00m\n\u001b[1;32m----> 8\u001b[0m \u001b[38;5;28;01mfrom\u001b[39;00m \u001b[38;5;21;01m.\u001b[39;00m\u001b[38;5;21;01m.\u001b[39;00m\u001b[38;5;21;01mdata\u001b[39;00m \u001b[38;5;28;01mimport\u001b[39;00m SquadExample, SquadFeatures, squad_convert_examples_to_features\n\u001b[0;32m      9\u001b[0m \u001b[38;5;28;01mfrom\u001b[39;00m \u001b[38;5;21;01m.\u001b[39;00m\u001b[38;5;21;01m.\u001b[39;00m\u001b[38;5;21;01mmodelcard\u001b[39;00m \u001b[38;5;28;01mimport\u001b[39;00m ModelCard\n",
      "File \u001b[1;32mc:\\Users\\ewa.miazga\\miniconda3\\envs\\mlbd\\lib\\site-packages\\transformers\\data\\__init__.py:30\u001b[0m\n\u001b[0;32m     19\u001b[0m \u001b[38;5;28;01mfrom\u001b[39;00m \u001b[38;5;21;01m.\u001b[39;00m\u001b[38;5;21;01mdata_collator\u001b[39;00m \u001b[38;5;28;01mimport\u001b[39;00m (\n\u001b[0;32m     20\u001b[0m     DataCollatorForLanguageModeling,\n\u001b[0;32m     21\u001b[0m     DataCollatorForPermutationLanguageModeling,\n\u001b[1;32m   (...)\u001b[0m\n\u001b[0;32m     28\u001b[0m     default_data_collator,\n\u001b[0;32m     29\u001b[0m )\n\u001b[1;32m---> 30\u001b[0m \u001b[38;5;28;01mfrom\u001b[39;00m \u001b[38;5;21;01m.\u001b[39;00m\u001b[38;5;21;01mmetrics\u001b[39;00m \u001b[38;5;28;01mimport\u001b[39;00m glue_compute_metrics, xnli_compute_metrics\n\u001b[0;32m     31\u001b[0m \u001b[38;5;28;01mfrom\u001b[39;00m \u001b[38;5;21;01m.\u001b[39;00m\u001b[38;5;21;01mprocessors\u001b[39;00m \u001b[38;5;28;01mimport\u001b[39;00m (\n\u001b[0;32m     32\u001b[0m     DataProcessor,\n\u001b[0;32m     33\u001b[0m     InputExample,\n\u001b[1;32m   (...)\u001b[0m\n\u001b[0;32m     47\u001b[0m     xnli_tasks_num_labels,\n\u001b[0;32m     48\u001b[0m )\n",
      "File \u001b[1;32mc:\\Users\\ewa.miazga\\miniconda3\\envs\\mlbd\\lib\\site-packages\\transformers\\data\\metrics\\__init__.py:23\u001b[0m\n\u001b[0;32m     22\u001b[0m \u001b[38;5;28;01mif\u001b[39;00m is_sklearn_available():\n\u001b[1;32m---> 23\u001b[0m     \u001b[38;5;28;01mfrom\u001b[39;00m \u001b[38;5;21;01msklearn\u001b[39;00m\u001b[38;5;21;01m.\u001b[39;00m\u001b[38;5;21;01mmetrics\u001b[39;00m \u001b[38;5;28;01mimport\u001b[39;00m f1_score, matthews_corrcoef\n\u001b[0;32m     25\u001b[0m     \u001b[38;5;28;01mfrom\u001b[39;00m \u001b[38;5;21;01mscipy\u001b[39;00m\u001b[38;5;21;01m.\u001b[39;00m\u001b[38;5;21;01mstats\u001b[39;00m \u001b[38;5;28;01mimport\u001b[39;00m pearsonr, spearmanr\n",
      "File \u001b[1;32mc:\\Users\\ewa.miazga\\miniconda3\\envs\\mlbd\\lib\\site-packages\\sklearn\\metrics\\__init__.py:65\u001b[0m\n\u001b[0;32m     46\u001b[0m \u001b[38;5;28;01mfrom\u001b[39;00m \u001b[38;5;21;01m.\u001b[39;00m\u001b[38;5;21;01m_regression\u001b[39;00m \u001b[38;5;28;01mimport\u001b[39;00m (\n\u001b[0;32m     47\u001b[0m     d2_absolute_error_score,\n\u001b[0;32m     48\u001b[0m     d2_pinball_score,\n\u001b[1;32m   (...)\u001b[0m\n\u001b[0;32m     63\u001b[0m     root_mean_squared_log_error,\n\u001b[0;32m     64\u001b[0m )\n\u001b[1;32m---> 65\u001b[0m \u001b[38;5;28;01mfrom\u001b[39;00m \u001b[38;5;21;01m.\u001b[39;00m\u001b[38;5;21;01m_scorer\u001b[39;00m \u001b[38;5;28;01mimport\u001b[39;00m check_scoring, get_scorer, get_scorer_names, make_scorer\n\u001b[0;32m     66\u001b[0m \u001b[38;5;28;01mfrom\u001b[39;00m \u001b[38;5;21;01m.\u001b[39;00m\u001b[38;5;21;01mcluster\u001b[39;00m \u001b[38;5;28;01mimport\u001b[39;00m (\n\u001b[0;32m     67\u001b[0m     adjusted_mutual_info_score,\n\u001b[0;32m     68\u001b[0m     adjusted_rand_score,\n\u001b[1;32m   (...)\u001b[0m\n\u001b[0;32m     82\u001b[0m     v_measure_score,\n\u001b[0;32m     83\u001b[0m )\n",
      "File \u001b[1;32mc:\\Users\\ewa.miazga\\miniconda3\\envs\\mlbd\\lib\\site-packages\\sklearn\\metrics\\_scorer.py:759\u001b[0m\n\u001b[0;32m    758\u001b[0m \u001b[38;5;66;03m# Standard regression scores\u001b[39;00m\n\u001b[1;32m--> 759\u001b[0m explained_variance_scorer \u001b[38;5;241m=\u001b[39m \u001b[43mmake_scorer\u001b[49m\u001b[43m(\u001b[49m\u001b[43mexplained_variance_score\u001b[49m\u001b[43m)\u001b[49m\n\u001b[0;32m    760\u001b[0m r2_scorer \u001b[38;5;241m=\u001b[39m make_scorer(r2_score)\n",
      "File \u001b[1;32mc:\\Users\\ewa.miazga\\miniconda3\\envs\\mlbd\\lib\\site-packages\\sklearn\\utils\\_param_validation.py:184\u001b[0m, in \u001b[0;36mvalidate_params.<locals>.decorator.<locals>.wrapper\u001b[1;34m(*args, **kwargs)\u001b[0m\n\u001b[0;32m    182\u001b[0m \u001b[38;5;129m@functools\u001b[39m\u001b[38;5;241m.\u001b[39mwraps(func)\n\u001b[0;32m    183\u001b[0m \u001b[38;5;28;01mdef\u001b[39;00m \u001b[38;5;21mwrapper\u001b[39m(\u001b[38;5;241m*\u001b[39margs, \u001b[38;5;241m*\u001b[39m\u001b[38;5;241m*\u001b[39mkwargs):\n\u001b[1;32m--> 184\u001b[0m     global_skip_validation \u001b[38;5;241m=\u001b[39m \u001b[43mget_config\u001b[49m\u001b[43m(\u001b[49m\u001b[43m)\u001b[49m\u001b[43m[\u001b[49m\u001b[38;5;124;43m\"\u001b[39;49m\u001b[38;5;124;43mskip_parameter_validation\u001b[39;49m\u001b[38;5;124;43m\"\u001b[39;49m\u001b[43m]\u001b[49m\n\u001b[0;32m    185\u001b[0m     \u001b[38;5;28;01mif\u001b[39;00m global_skip_validation:\n",
      "\u001b[1;31mKeyError\u001b[0m: 'skip_parameter_validation'",
      "\nThe above exception was the direct cause of the following exception:\n",
      "\u001b[1;31mRuntimeError\u001b[0m                              Traceback (most recent call last)",
      "Cell \u001b[1;32mIn[32], line 1\u001b[0m\n\u001b[1;32m----> 1\u001b[0m \u001b[38;5;28;01mfrom\u001b[39;00m \u001b[38;5;21;01mpysentimiento\u001b[39;00m \u001b[38;5;28;01mimport\u001b[39;00m create_analyzer\n\u001b[0;32m      2\u001b[0m emotion_analyzer \u001b[38;5;241m=\u001b[39m create_analyzer(task\u001b[38;5;241m=\u001b[39m\u001b[38;5;124m\"\u001b[39m\u001b[38;5;124memotion\u001b[39m\u001b[38;5;124m\"\u001b[39m, lang\u001b[38;5;241m=\u001b[39m\u001b[38;5;124m\"\u001b[39m\u001b[38;5;124men\u001b[39m\u001b[38;5;124m\"\u001b[39m)\n",
      "File \u001b[1;32mc:\\Users\\ewa.miazga\\miniconda3\\envs\\mlbd\\lib\\site-packages\\pysentimiento\\__init__.py:1\u001b[0m\n\u001b[1;32m----> 1\u001b[0m \u001b[38;5;28;01mfrom\u001b[39;00m \u001b[38;5;21;01m.\u001b[39;00m\u001b[38;5;21;01manalyzer\u001b[39;00m \u001b[38;5;28;01mimport\u001b[39;00m create_analyzer\n",
      "File \u001b[1;32mc:\\Users\\ewa.miazga\\miniconda3\\envs\\mlbd\\lib\\site-packages\\pysentimiento\\analyzer.py:5\u001b[0m\n\u001b[0;32m      3\u001b[0m \u001b[38;5;28;01mfrom\u001b[39;00m \u001b[38;5;21;01m.\u001b[39;00m\u001b[38;5;21;01mpreprocessing\u001b[39;00m \u001b[38;5;28;01mimport\u001b[39;00m preprocess_tweet\n\u001b[0;32m      4\u001b[0m \u001b[38;5;28;01mimport\u001b[39;00m \u001b[38;5;21;01mtransformers\u001b[39;00m\n\u001b[1;32m----> 5\u001b[0m \u001b[38;5;28;01mfrom\u001b[39;00m \u001b[38;5;21;01mtransformers\u001b[39;00m \u001b[38;5;28;01mimport\u001b[39;00m (\n\u001b[0;32m      6\u001b[0m     AutoTokenizer,\n\u001b[0;32m      7\u001b[0m     AutoModelForSequenceClassification,\n\u001b[0;32m      8\u001b[0m     AutoModelForTokenClassification,\n\u001b[0;32m      9\u001b[0m     DataCollatorWithPadding,\n\u001b[0;32m     10\u001b[0m     Trainer,\n\u001b[0;32m     11\u001b[0m     TrainingArguments,\n\u001b[0;32m     12\u001b[0m     pipeline,\n\u001b[0;32m     13\u001b[0m )\n\u001b[0;32m     14\u001b[0m \u001b[38;5;28;01mfrom\u001b[39;00m \u001b[38;5;21;01mdatasets\u001b[39;00m \u001b[38;5;28;01mimport\u001b[39;00m Dataset\n\u001b[0;32m     15\u001b[0m \u001b[38;5;28;01mfrom\u001b[39;00m \u001b[38;5;21;01mtorch\u001b[39;00m\u001b[38;5;21;01m.\u001b[39;00m\u001b[38;5;21;01mnn\u001b[39;00m \u001b[38;5;28;01mimport\u001b[39;00m functional \u001b[38;5;28;01mas\u001b[39;00m F\n",
      "File \u001b[1;32m<frozen importlib._bootstrap>:1075\u001b[0m, in \u001b[0;36m_handle_fromlist\u001b[1;34m(module, fromlist, import_, recursive)\u001b[0m\n",
      "File \u001b[1;32mc:\\Users\\ewa.miazga\\miniconda3\\envs\\mlbd\\lib\\site-packages\\transformers\\utils\\import_utils.py:1766\u001b[0m, in \u001b[0;36m_LazyModule.__getattr__\u001b[1;34m(self, name)\u001b[0m\n\u001b[0;32m   1764\u001b[0m     value \u001b[38;5;241m=\u001b[39m Placeholder\n\u001b[0;32m   1765\u001b[0m \u001b[38;5;28;01melif\u001b[39;00m name \u001b[38;5;129;01min\u001b[39;00m \u001b[38;5;28mself\u001b[39m\u001b[38;5;241m.\u001b[39m_class_to_module\u001b[38;5;241m.\u001b[39mkeys():\n\u001b[1;32m-> 1766\u001b[0m     module \u001b[38;5;241m=\u001b[39m \u001b[38;5;28;43mself\u001b[39;49m\u001b[38;5;241;43m.\u001b[39;49m\u001b[43m_get_module\u001b[49m\u001b[43m(\u001b[49m\u001b[38;5;28;43mself\u001b[39;49m\u001b[38;5;241;43m.\u001b[39;49m\u001b[43m_class_to_module\u001b[49m\u001b[43m[\u001b[49m\u001b[43mname\u001b[49m\u001b[43m]\u001b[49m\u001b[43m)\u001b[49m\n\u001b[0;32m   1767\u001b[0m     value \u001b[38;5;241m=\u001b[39m \u001b[38;5;28mgetattr\u001b[39m(module, name)\n\u001b[0;32m   1768\u001b[0m \u001b[38;5;28;01melif\u001b[39;00m name \u001b[38;5;129;01min\u001b[39;00m \u001b[38;5;28mself\u001b[39m\u001b[38;5;241m.\u001b[39m_modules:\n",
      "File \u001b[1;32mc:\\Users\\ewa.miazga\\miniconda3\\envs\\mlbd\\lib\\site-packages\\transformers\\utils\\import_utils.py:1780\u001b[0m, in \u001b[0;36m_LazyModule._get_module\u001b[1;34m(self, module_name)\u001b[0m\n\u001b[0;32m   1778\u001b[0m     \u001b[38;5;28;01mreturn\u001b[39;00m importlib\u001b[38;5;241m.\u001b[39mimport_module(\u001b[38;5;124m\"\u001b[39m\u001b[38;5;124m.\u001b[39m\u001b[38;5;124m\"\u001b[39m \u001b[38;5;241m+\u001b[39m module_name, \u001b[38;5;28mself\u001b[39m\u001b[38;5;241m.\u001b[39m\u001b[38;5;18m__name__\u001b[39m)\n\u001b[0;32m   1779\u001b[0m \u001b[38;5;28;01mexcept\u001b[39;00m \u001b[38;5;167;01mException\u001b[39;00m \u001b[38;5;28;01mas\u001b[39;00m e:\n\u001b[1;32m-> 1780\u001b[0m     \u001b[38;5;28;01mraise\u001b[39;00m \u001b[38;5;167;01mRuntimeError\u001b[39;00m(\n\u001b[0;32m   1781\u001b[0m         \u001b[38;5;124mf\u001b[39m\u001b[38;5;124m\"\u001b[39m\u001b[38;5;124mFailed to import \u001b[39m\u001b[38;5;132;01m{\u001b[39;00m\u001b[38;5;28mself\u001b[39m\u001b[38;5;241m.\u001b[39m\u001b[38;5;18m__name__\u001b[39m\u001b[38;5;132;01m}\u001b[39;00m\u001b[38;5;124m.\u001b[39m\u001b[38;5;132;01m{\u001b[39;00mmodule_name\u001b[38;5;132;01m}\u001b[39;00m\u001b[38;5;124m because of the following error (look up to see its\u001b[39m\u001b[38;5;124m\"\u001b[39m\n\u001b[0;32m   1782\u001b[0m         \u001b[38;5;124mf\u001b[39m\u001b[38;5;124m\"\u001b[39m\u001b[38;5;124m traceback):\u001b[39m\u001b[38;5;130;01m\\n\u001b[39;00m\u001b[38;5;132;01m{\u001b[39;00me\u001b[38;5;132;01m}\u001b[39;00m\u001b[38;5;124m\"\u001b[39m\n\u001b[0;32m   1783\u001b[0m     ) \u001b[38;5;28;01mfrom\u001b[39;00m \u001b[38;5;21;01me\u001b[39;00m\n",
      "\u001b[1;31mRuntimeError\u001b[0m: Failed to import transformers.pipelines because of the following error (look up to see its traceback):\n'skip_parameter_validation'"
     ]
    }
   ],
   "source": [
    "from pysentimiento import create_analyzer\n",
    "emotion_analyzer = create_analyzer(task=\"emotion\", lang=\"en\")\n"
   ]
  },
  {
   "cell_type": "code",
   "execution_count": null,
   "metadata": {},
   "outputs": [],
   "source": [
    "emotion_analyzer = create_analyzer(task=\"emotion\", lang=\"en\")\n",
    "emotion_analyzer.predict(\"This is so terrible...\")"
   ]
  },
  {
   "cell_type": "code",
   "execution_count": null,
   "metadata": {},
   "outputs": [],
   "source": [
    "hate_speech_analyzer = create_analyzer(task=\"hate_speech\", lang=\"en\")\n",
    "hate_speech_analyzer.predict(\"I hate you\")"
   ]
  },
  {
   "cell_type": "code",
   "execution_count": null,
   "metadata": {},
   "outputs": [],
   "source": [
    "analyzer = create_analyzer(task=\"sentiment\", lang=\"en\")\n",
    "analyzer.predict(\"I love this!\")"
   ]
  }
 ],
 "metadata": {
  "kernelspec": {
   "display_name": "mlbd",
   "language": "python",
   "name": "python3"
  },
  "language_info": {
   "codemirror_mode": {
    "name": "ipython",
    "version": 3
   },
   "file_extension": ".py",
   "mimetype": "text/x-python",
   "name": "python",
   "nbconvert_exporter": "python",
   "pygments_lexer": "ipython3",
   "version": "3.10.13"
  }
 },
 "nbformat": 4,
 "nbformat_minor": 2
}
